{
 "metadata": {
  "language_info": {
   "codemirror_mode": {
    "name": "ipython",
    "version": 3
   },
   "file_extension": ".py",
   "mimetype": "text/x-python",
   "name": "python",
   "nbconvert_exporter": "python",
   "pygments_lexer": "ipython3",
   "version": "3.7.6-final"
  },
  "orig_nbformat": 2,
  "kernelspec": {
   "name": "python3",
   "display_name": "Python 3"
  }
 },
 "nbformat": 4,
 "nbformat_minor": 2,
 "cells": [
  {
   "cell_type": "markdown",
   "metadata": {},
   "source": [
    "# Kaggle MNIST Dataset"
   ]
  },
  {
   "cell_type": "code",
   "execution_count": 1,
   "metadata": {},
   "outputs": [],
   "source": [
    "import torch\n",
    "import numpy as np\n",
    "import pandas as pd\n",
    "import torch.nn as nn\n",
    "import torch.nn.functional as F\n",
    "import matplotlib.pyplot as plt\n",
    "import torchvision.transforms as tt\n",
    "from torch.utils.data.sampler import SubsetRandomSampler\n",
    "from torch.utils.data.dataloader import DataLoader"
   ]
  },
  {
   "cell_type": "code",
   "execution_count": 2,
   "metadata": {},
   "outputs": [
    {
     "output_type": "execute_result",
     "data": {
      "text/plain": "<torch._C.Generator at 0x234156785f0>"
     },
     "metadata": {},
     "execution_count": 2
    }
   ],
   "source": [
    "np.random.seed(0)\n",
    "torch.manual_seed(0)"
   ]
  },
  {
   "cell_type": "code",
   "execution_count": 3,
   "metadata": {},
   "outputs": [],
   "source": [
    "mnist_train_df = pd.read_csv('train.csv')"
   ]
  },
  {
   "cell_type": "code",
   "execution_count": 4,
   "metadata": {},
   "outputs": [],
   "source": [
    "train_transform = tt.Compose([\n",
    "    tt.ToPILImage(),\n",
    "    tt.RandomRotation(10),\n",
    "    tt.RandomCrop(28, padding=4),\n",
    "    tt.ToTensor()\n",
    "])"
   ]
  },
  {
   "cell_type": "code",
   "execution_count": 5,
   "metadata": {},
   "outputs": [],
   "source": [
    "mnist_train_labels = mnist_train_df['label'].values\n",
    "mnist_train_data = torch.Tensor(mnist_train_df.drop('label', axis=1).values.reshape(-1, 1, 28, 28)) / 255.\n",
    "mnist_train = []\n",
    "\n",
    "for i in range(len(mnist_train_data)):\n",
    "    mnist_train.append([train_transform(mnist_train_data[i]), mnist_train_labels[i]])"
   ]
  },
  {
   "cell_type": "code",
   "execution_count": 6,
   "metadata": {},
   "outputs": [
    {
     "output_type": "execute_result",
     "data": {
      "text/plain": "(42000, torch.Size([1, 28, 28]), 1)"
     },
     "metadata": {},
     "execution_count": 6
    }
   ],
   "source": [
    "sample, label = mnist_train[0]\n",
    "len(mnist_train), sample.shape, label"
   ]
  },
  {
   "cell_type": "code",
   "execution_count": 7,
   "metadata": {},
   "outputs": [],
   "source": [
    "def split_indices(n, val_pct):\n",
    "    n_val = int(val_pct * n)\n",
    "    idxs = np.random.permutation(n)\n",
    "    return idxs[n_val:], idxs[:n_val]"
   ]
  },
  {
   "cell_type": "code",
   "execution_count": 8,
   "metadata": {},
   "outputs": [],
   "source": [
    "train_idxs, val_idxs = split_indices(len(mnist_train_data), 0.2)"
   ]
  },
  {
   "cell_type": "code",
   "execution_count": 9,
   "metadata": {},
   "outputs": [],
   "source": [
    "batch_size = 128\n",
    "\n",
    "train_sampler = SubsetRandomSampler(train_idxs)\n",
    "train_loader = DataLoader(mnist_train, batch_size=batch_size, sampler=train_sampler)\n",
    "\n",
    "val_sampler = SubsetRandomSampler(val_idxs)\n",
    "val_loader = DataLoader(mnist_train, batch_size=batch_size, sampler=val_sampler)"
   ]
  },
  {
   "cell_type": "code",
   "execution_count": 10,
   "metadata": {
    "tags": []
   },
   "outputs": [
    {
     "output_type": "stream",
     "name": "stdout",
     "text": "torch.Size([128, 1, 28, 28]) torch.Size([128]) tensor([4, 8, 2, 8, 6])\n"
    }
   ],
   "source": [
    "for sample, label in val_loader:\n",
    "    print(sample.shape, label.shape, label[:5])\n",
    "    break"
   ]
  },
  {
   "cell_type": "code",
   "execution_count": 11,
   "metadata": {},
   "outputs": [],
   "source": [
    "def get_default_device():\n",
    "    if torch.cuda.is_available():\n",
    "        return torch.device('cuda')\n",
    "    else:\n",
    "        return torch.device('cpu')\n",
    "    \n",
    "def to_device(data, device):\n",
    "    if isinstance(data, (list,tuple)):\n",
    "        return [to_device(x, device) for x in data]\n",
    "    return data.to(device, non_blocking=True)\n",
    "\n",
    "class DeviceDataLoader():\n",
    "    def __init__(self, dl, device):\n",
    "        self.dl = dl\n",
    "        self.device = device\n",
    "        \n",
    "    def __iter__(self):\n",
    "        for b in self.dl: \n",
    "            yield to_device(b, self.device)\n",
    "\n",
    "    def __len__(self):\n",
    "        return len(self.dl)"
   ]
  },
  {
   "cell_type": "code",
   "execution_count": 12,
   "metadata": {},
   "outputs": [
    {
     "output_type": "execute_result",
     "data": {
      "text/plain": "device(type='cuda')"
     },
     "metadata": {},
     "execution_count": 12
    }
   ],
   "source": [
    "device = get_default_device()\n",
    "device"
   ]
  },
  {
   "cell_type": "code",
   "execution_count": 13,
   "metadata": {},
   "outputs": [],
   "source": [
    "train_loader = DeviceDataLoader(train_loader, device)\n",
    "val_loader = DeviceDataLoader(val_loader, device)"
   ]
  },
  {
   "cell_type": "code",
   "execution_count": 14,
   "metadata": {},
   "outputs": [],
   "source": [
    "def accuracy(outputs, labels):\n",
    "    _, preds = torch.max(outputs, dim=1)\n",
    "    return torch.tensor(torch.sum(preds == labels).item() / len(preds))\n",
    "\n",
    "class ImageClassificationBase (nn.Module):\n",
    "    def training_step(self, batch):\n",
    "        images, labels = batch\n",
    "        out = self(images)\n",
    "        loss = F.cross_entropy(out, labels)\n",
    "        return loss\n",
    "    \n",
    "    def validation_step(self, batch):\n",
    "        images, labels = batch \n",
    "        out = self(images)\n",
    "        loss = F.cross_entropy(out, labels)\n",
    "        acc = accuracy(out, labels)\n",
    "        return {'val_loss': loss.detach(), 'val_acc': acc}\n",
    "        \n",
    "    def validation_epoch_end(self, outputs):\n",
    "        batch_losses = [x['val_loss'] for x in outputs]\n",
    "        epoch_loss = torch.stack(batch_losses).mean()\n",
    "        batch_accs = [x['val_acc'] for x in outputs]\n",
    "        epoch_acc = torch.stack(batch_accs).mean()\n",
    "        return {'val_loss': epoch_loss.item(), 'val_acc': epoch_acc.item()}\n",
    "    \n",
    "    def epoch_end(self, epoch, result):\n",
    "        if 'val_loss' in result:\n",
    "            print(\"Epoch [{}], last_lr: {:.6f}, train_loss: {:.6f}, val_loss: {:.6f}, val_acc: {:.6f}\".format(\n",
    "                epoch + 1, result['lrs'][-1], result['train_loss'], result['val_loss'], result['val_acc']))\n",
    "        else:\n",
    "            print(\"Epoch [{}], last_lr: {:.6f}, train_loss: {:.6f}\".format(\n",
    "                epoch + 1, result['lrs'][-1], result['train_loss']))"
   ]
  },
  {
   "cell_type": "code",
   "execution_count": 15,
   "metadata": {},
   "outputs": [],
   "source": [
    "@torch.no_grad()\n",
    "def evaluate(model, val_loader):\n",
    "    model.eval()\n",
    "    outputs = [model.validation_step(batch) for batch in val_loader]\n",
    "    return model.validation_epoch_end(outputs)\n",
    "\n",
    "def get_lr(optimizer):\n",
    "    for param_group in optimizer.param_groups:\n",
    "        return param_group['lr']\n",
    "\n",
    "def fit_one_cycle(epochs, max_lr, model, train_loader, val_loader=None, weight_decay=0, grad_clip=None, opt_func=torch.optim.SGD):\n",
    "    torch.cuda.empty_cache()\n",
    "    history = []\n",
    "    \n",
    "    optimizer = opt_func(model.parameters(), max_lr, weight_decay=weight_decay)\n",
    "    sched = torch.optim.lr_scheduler.OneCycleLR(optimizer, max_lr, epochs=epochs, steps_per_epoch=len(train_loader))\n",
    "    \n",
    "    for epoch in range(epochs):\n",
    "        model.train()\n",
    "        train_losses = []\n",
    "        lrs = []\n",
    "        for batch in train_loader:\n",
    "            loss = model.training_step(batch)\n",
    "            train_losses.append(loss)\n",
    "            loss.backward()\n",
    "\n",
    "            if grad_clip: \n",
    "                nn.utils.clip_grad_value_(model.parameters(), grad_clip)\n",
    "            \n",
    "            optimizer.step()\n",
    "            optimizer.zero_grad()\n",
    "\n",
    "            lrs.append(get_lr(optimizer))\n",
    "            sched.step()\n",
    "        \n",
    "        result = {}\n",
    "        if val_loader is not None:\n",
    "            result = evaluate(model, val_loader)\n",
    "        result['train_loss'] = torch.stack(train_losses).mean().item()\n",
    "        result['lrs'] = lrs\n",
    "        model.epoch_end(epoch, result)\n",
    "        history.append(result)\n",
    "    return history"
   ]
  },
  {
   "cell_type": "code",
   "execution_count": 16,
   "metadata": {},
   "outputs": [],
   "source": [
    "def conv_block(in_channels, out_channels, pool=False, drop=0.25):\n",
    "    layers = [\n",
    "        nn.Conv2d(in_channels, out_channels, kernel_size=3, padding=1),\n",
    "        nn.BatchNorm2d(out_channels),\n",
    "        nn.ReLU(inplace=True)\n",
    "    ]\n",
    "    if pool:\n",
    "        layers.append(nn.MaxPool2d(2))\n",
    "        layers.append(nn.Dropout2d(p=drop))\n",
    "    return nn.Sequential(*layers)\n",
    "\n",
    "def linear_block(in_number, out_number):\n",
    "    layers = [\n",
    "        nn.Linear(in_number, out_number),\n",
    "        nn.BatchNorm1d(out_number),\n",
    "        nn.ReLU(inplace=True)\n",
    "    ]\n",
    "    return nn.Sequential(*layers)\n",
    "\n",
    "class MnistConvolutionalNeuralNetwork (ImageClassificationBase):\n",
    "    def __init__(self, input_channels, hidden_layers, output_size):\n",
    "        super().__init__()\n",
    "        layers = []\n",
    "\n",
    "        layers.append(conv_block(input_channels, 32))\n",
    "        layers.append(conv_block(32, 32, pool=True))\n",
    "\n",
    "        layers.append(conv_block(32, 64))\n",
    "        layers.append(conv_block(64, 64, pool=True))\n",
    "\n",
    "        layers.append(nn.Flatten())\n",
    "\n",
    "        layers.append(linear_block(64 * 7 * 7, hidden_layers[0]))\n",
    "\n",
    "        for i in range(len(hidden_layers) - 1):\n",
    "            layers.append(linear_block(hidden_layers[i], hidden_layers[i + 1]))\n",
    "        \n",
    "        layers.append(nn.Dropout(p=0.3))\n",
    "        \n",
    "        layers.append(nn.Linear(hidden_layers[-1], output_size))\n",
    "        self.connections = nn.Sequential(*layers)\n",
    "    \n",
    "    def forward(self, xb):\n",
    "        return self.connections(xb)"
   ]
  },
  {
   "cell_type": "code",
   "execution_count": 17,
   "metadata": {},
   "outputs": [
    {
     "output_type": "execute_result",
     "data": {
      "text/plain": "MnistConvolutionalNeuralNetwork(\n  (connections): Sequential(\n    (0): Sequential(\n      (0): Conv2d(1, 32, kernel_size=(3, 3), stride=(1, 1), padding=(1, 1))\n      (1): BatchNorm2d(32, eps=1e-05, momentum=0.1, affine=True, track_running_stats=True)\n      (2): ReLU(inplace=True)\n    )\n    (1): Sequential(\n      (0): Conv2d(32, 32, kernel_size=(3, 3), stride=(1, 1), padding=(1, 1))\n      (1): BatchNorm2d(32, eps=1e-05, momentum=0.1, affine=True, track_running_stats=True)\n      (2): ReLU(inplace=True)\n      (3): MaxPool2d(kernel_size=2, stride=2, padding=0, dilation=1, ceil_mode=False)\n      (4): Dropout2d(p=0.25, inplace=False)\n    )\n    (2): Sequential(\n      (0): Conv2d(32, 64, kernel_size=(3, 3), stride=(1, 1), padding=(1, 1))\n      (1): BatchNorm2d(64, eps=1e-05, momentum=0.1, affine=True, track_running_stats=True)\n      (2): ReLU(inplace=True)\n    )\n    (3): Sequential(\n      (0): Conv2d(64, 64, kernel_size=(3, 3), stride=(1, 1), padding=(1, 1))\n      (1): BatchNorm2d(64, eps=1e-05, momentum=0.1, affine=True, track_running_stats=True)\n      (2): ReLU(inplace=True)\n      (3): MaxPool2d(kernel_size=2, stride=2, padding=0, dilation=1, ceil_mode=False)\n      (4): Dropout2d(p=0.25, inplace=False)\n    )\n    (4): Flatten()\n    (5): Sequential(\n      (0): Linear(in_features=3136, out_features=256, bias=True)\n      (1): BatchNorm1d(256, eps=1e-05, momentum=0.1, affine=True, track_running_stats=True)\n      (2): ReLU(inplace=True)\n    )\n    (6): Sequential(\n      (0): Linear(in_features=256, out_features=256, bias=True)\n      (1): BatchNorm1d(256, eps=1e-05, momentum=0.1, affine=True, track_running_stats=True)\n      (2): ReLU(inplace=True)\n    )\n    (7): Sequential(\n      (0): Linear(in_features=256, out_features=128, bias=True)\n      (1): BatchNorm1d(128, eps=1e-05, momentum=0.1, affine=True, track_running_stats=True)\n      (2): ReLU(inplace=True)\n    )\n    (8): Dropout(p=0.3, inplace=False)\n    (9): Linear(in_features=128, out_features=10, bias=True)\n  )\n)"
     },
     "metadata": {},
     "execution_count": 17
    }
   ],
   "source": [
    "input_channel = 1\n",
    "hidden_layers = [256, 256, 128]\n",
    "output_size = 10\n",
    "model = MnistConvolutionalNeuralNetwork(input_channel, hidden_layers, output_size)\n",
    "to_device(model, device)"
   ]
  },
  {
   "cell_type": "code",
   "execution_count": 18,
   "metadata": {
    "tags": []
   },
   "outputs": [
    {
     "output_type": "stream",
     "name": "stdout",
     "text": "Epoch [1], last_lr: 0.000056, train_loss: 1.869431, val_loss: 1.298114, val_acc: 0.649905\nEpoch [2], last_lr: 0.000104, train_loss: 1.004244, val_loss: 0.494770, val_acc: 0.903930\nEpoch [3], last_lr: 0.000180, train_loss: 0.439910, val_loss: 0.187152, val_acc: 0.957481\nEpoch [4], last_lr: 0.000280, train_loss: 0.220764, val_loss: 0.114114, val_acc: 0.968774\nEpoch [5], last_lr: 0.000395, train_loss: 0.143632, val_loss: 0.080328, val_acc: 0.976823\nEpoch [6], last_lr: 0.000520, train_loss: 0.112954, val_loss: 0.072821, val_acc: 0.978977\nEpoch [7], last_lr: 0.000644, train_loss: 0.093481, val_loss: 0.067949, val_acc: 0.977865\nEpoch [8], last_lr: 0.000760, train_loss: 0.084364, val_loss: 0.064602, val_acc: 0.981108\nEpoch [9], last_lr: 0.000859, train_loss: 0.073882, val_loss: 0.060685, val_acc: 0.980516\nEpoch [10], last_lr: 0.000936, train_loss: 0.067685, val_loss: 0.064445, val_acc: 0.979948\nEpoch [11], last_lr: 0.000984, train_loss: 0.062165, val_loss: 0.053730, val_acc: 0.983475\nEpoch [12], last_lr: 0.001000, train_loss: 0.054003, val_loss: 0.055224, val_acc: 0.982505\nEpoch [13], last_lr: 0.000997, train_loss: 0.046593, val_loss: 0.042989, val_acc: 0.986553\nEpoch [14], last_lr: 0.000987, train_loss: 0.041611, val_loss: 0.054237, val_acc: 0.984233\nEpoch [15], last_lr: 0.000972, train_loss: 0.036600, val_loss: 0.057030, val_acc: 0.983286\nEpoch [16], last_lr: 0.000950, train_loss: 0.034958, val_loss: 0.049102, val_acc: 0.985322\nEpoch [17], last_lr: 0.000923, train_loss: 0.032315, val_loss: 0.050411, val_acc: 0.985298\nEpoch [18], last_lr: 0.000891, train_loss: 0.026583, val_loss: 0.052479, val_acc: 0.985251\nEpoch [19], last_lr: 0.000854, train_loss: 0.028016, val_loss: 0.051804, val_acc: 0.985180\nEpoch [20], last_lr: 0.000812, train_loss: 0.024671, val_loss: 0.042635, val_acc: 0.987429\nEpoch [21], last_lr: 0.000766, train_loss: 0.019846, val_loss: 0.046891, val_acc: 0.986766\nEpoch [22], last_lr: 0.000717, train_loss: 0.021202, val_loss: 0.048803, val_acc: 0.986032\nEpoch [23], last_lr: 0.000665, train_loss: 0.017010, val_loss: 0.042153, val_acc: 0.987382\nEpoch [24], last_lr: 0.000611, train_loss: 0.013648, val_loss: 0.035385, val_acc: 0.990649\nEpoch [25], last_lr: 0.000556, train_loss: 0.010509, val_loss: 0.041897, val_acc: 0.988636\nEpoch [26], last_lr: 0.000500, train_loss: 0.008888, val_loss: 0.036991, val_acc: 0.990578\nEpoch [27], last_lr: 0.000444, train_loss: 0.006376, val_loss: 0.040128, val_acc: 0.989465\nEpoch [28], last_lr: 0.000389, train_loss: 0.008477, val_loss: 0.038331, val_acc: 0.990530\nEpoch [29], last_lr: 0.000335, train_loss: 0.006974, val_loss: 0.040041, val_acc: 0.988613\nEpoch [30], last_lr: 0.000283, train_loss: 0.005975, val_loss: 0.039962, val_acc: 0.988707\nEpoch [31], last_lr: 0.000234, train_loss: 0.004240, val_loss: 0.040612, val_acc: 0.989820\nEpoch [32], last_lr: 0.000188, train_loss: 0.002909, val_loss: 0.039295, val_acc: 0.989583\nEpoch [33], last_lr: 0.000146, train_loss: 0.002957, val_loss: 0.038858, val_acc: 0.990412\nEpoch [34], last_lr: 0.000109, train_loss: 0.002912, val_loss: 0.038908, val_acc: 0.990625\nEpoch [35], last_lr: 0.000077, train_loss: 0.002022, val_loss: 0.037254, val_acc: 0.990412\nEpoch [36], last_lr: 0.000050, train_loss: 0.001876, val_loss: 0.036349, val_acc: 0.991288\nEpoch [37], last_lr: 0.000028, train_loss: 0.002099, val_loss: 0.038877, val_acc: 0.990814\nEpoch [38], last_lr: 0.000013, train_loss: 0.001359, val_loss: 0.037975, val_acc: 0.990885\nEpoch [39], last_lr: 0.000003, train_loss: 0.001905, val_loss: 0.036854, val_acc: 0.990862\nEpoch [40], last_lr: 0.000000, train_loss: 0.001777, val_loss: 0.037615, val_acc: 0.990885\n"
    }
   ],
   "source": [
    "epochs = 40\n",
    "max_lr = 0.001\n",
    "#grad_clip = 0.1\n",
    "#weight_decay = 1e-4\n",
    "opt_func = torch.optim.Adam\n",
    "\n",
    "history = fit_one_cycle(epochs, max_lr, model, train_loader, val_loader=val_loader, opt_func=torch.optim.Adam)"
   ]
  },
  {
   "cell_type": "code",
   "execution_count": 30,
   "metadata": {},
   "outputs": [
    {
     "output_type": "execute_result",
     "data": {
      "text/plain": "MnistConvolutionalNeuralNetwork(\n  (connections): Sequential(\n    (0): Sequential(\n      (0): Conv2d(1, 32, kernel_size=(3, 3), stride=(1, 1), padding=(1, 1))\n      (1): BatchNorm2d(32, eps=1e-05, momentum=0.1, affine=True, track_running_stats=True)\n      (2): ReLU(inplace=True)\n    )\n    (1): Sequential(\n      (0): Conv2d(32, 32, kernel_size=(3, 3), stride=(1, 1), padding=(1, 1))\n      (1): BatchNorm2d(32, eps=1e-05, momentum=0.1, affine=True, track_running_stats=True)\n      (2): ReLU(inplace=True)\n      (3): MaxPool2d(kernel_size=2, stride=2, padding=0, dilation=1, ceil_mode=False)\n      (4): Dropout2d(p=0.25, inplace=False)\n    )\n    (2): Sequential(\n      (0): Conv2d(32, 64, kernel_size=(3, 3), stride=(1, 1), padding=(1, 1))\n      (1): BatchNorm2d(64, eps=1e-05, momentum=0.1, affine=True, track_running_stats=True)\n      (2): ReLU(inplace=True)\n    )\n    (3): Sequential(\n      (0): Conv2d(64, 64, kernel_size=(3, 3), stride=(1, 1), padding=(1, 1))\n      (1): BatchNorm2d(64, eps=1e-05, momentum=0.1, affine=True, track_running_stats=True)\n      (2): ReLU(inplace=True)\n      (3): MaxPool2d(kernel_size=2, stride=2, padding=0, dilation=1, ceil_mode=False)\n      (4): Dropout2d(p=0.25, inplace=False)\n    )\n    (4): Flatten()\n    (5): Sequential(\n      (0): Linear(in_features=3136, out_features=256, bias=True)\n      (1): BatchNorm1d(256, eps=1e-05, momentum=0.1, affine=True, track_running_stats=True)\n      (2): ReLU(inplace=True)\n    )\n    (6): Sequential(\n      (0): Linear(in_features=256, out_features=256, bias=True)\n      (1): BatchNorm1d(256, eps=1e-05, momentum=0.1, affine=True, track_running_stats=True)\n      (2): ReLU(inplace=True)\n    )\n    (7): Sequential(\n      (0): Linear(in_features=256, out_features=128, bias=True)\n      (1): BatchNorm1d(128, eps=1e-05, momentum=0.1, affine=True, track_running_stats=True)\n      (2): ReLU(inplace=True)\n    )\n    (8): Dropout(p=0.3, inplace=False)\n    (9): Linear(in_features=128, out_features=10, bias=True)\n  )\n)"
     },
     "metadata": {},
     "execution_count": 30
    }
   ],
   "source": [
    "input_channel = 1\n",
    "hidden_layers = [256, 256, 128]\n",
    "output_size = 10\n",
    "model_2 = MnistConvolutionalNeuralNetwork(input_channel, hidden_layers, output_size)\n",
    "to_device(model_2, device)"
   ]
  },
  {
   "cell_type": "code",
   "execution_count": 20,
   "metadata": {},
   "outputs": [],
   "source": [
    "full_loader = DeviceDataLoader(DataLoader(mnist_train, batch_size=batch_size, shuffle=True), device)"
   ]
  },
  {
   "cell_type": "code",
   "execution_count": 31,
   "metadata": {
    "tags": []
   },
   "outputs": [
    {
     "output_type": "stream",
     "name": "stdout",
     "text": "Epoch [1], last_lr: 0.000056, train_loss: 1.748376\nEpoch [2], last_lr: 0.000104, train_loss: 0.858887\nEpoch [3], last_lr: 0.000180, train_loss: 0.353549\nEpoch [4], last_lr: 0.000280, train_loss: 0.189252\nEpoch [5], last_lr: 0.000396, train_loss: 0.129978\nEpoch [6], last_lr: 0.000520, train_loss: 0.105757\nEpoch [7], last_lr: 0.000644, train_loss: 0.091392\nEpoch [8], last_lr: 0.000760, train_loss: 0.078775\nEpoch [9], last_lr: 0.000859, train_loss: 0.079163\nEpoch [10], last_lr: 0.000936, train_loss: 0.067745\nEpoch [11], last_lr: 0.000984, train_loss: 0.060252\nEpoch [12], last_lr: 0.001000, train_loss: 0.049691\nEpoch [13], last_lr: 0.000997, train_loss: 0.049376\nEpoch [14], last_lr: 0.000987, train_loss: 0.043813\nEpoch [15], last_lr: 0.000972, train_loss: 0.040959\nEpoch [16], last_lr: 0.000950, train_loss: 0.037468\nEpoch [17], last_lr: 0.000923, train_loss: 0.038825\nEpoch [18], last_lr: 0.000891, train_loss: 0.033598\nEpoch [19], last_lr: 0.000854, train_loss: 0.027038\nEpoch [20], last_lr: 0.000812, train_loss: 0.032014\nEpoch [21], last_lr: 0.000766, train_loss: 0.028873\nEpoch [22], last_lr: 0.000717, train_loss: 0.024900\nEpoch [23], last_lr: 0.000665, train_loss: 0.023911\nEpoch [24], last_lr: 0.000611, train_loss: 0.022477\nEpoch [25], last_lr: 0.000556, train_loss: 0.015372\nEpoch [26], last_lr: 0.000500, train_loss: 0.014996\nEpoch [27], last_lr: 0.000444, train_loss: 0.012296\nEpoch [28], last_lr: 0.000389, train_loss: 0.010842\nEpoch [29], last_lr: 0.000335, train_loss: 0.010099\nEpoch [30], last_lr: 0.000283, train_loss: 0.007374\nEpoch [31], last_lr: 0.000234, train_loss: 0.007901\nEpoch [32], last_lr: 0.000188, train_loss: 0.006547\nEpoch [33], last_lr: 0.000146, train_loss: 0.005310\nEpoch [34], last_lr: 0.000109, train_loss: 0.004213\nEpoch [35], last_lr: 0.000077, train_loss: 0.003041\nEpoch [36], last_lr: 0.000050, train_loss: 0.002804\nEpoch [37], last_lr: 0.000028, train_loss: 0.003623\nEpoch [38], last_lr: 0.000013, train_loss: 0.002981\nEpoch [39], last_lr: 0.000003, train_loss: 0.002285\nEpoch [40], last_lr: 0.000000, train_loss: 0.002085\n"
    }
   ],
   "source": [
    "epochs = 40\n",
    "max_lr = 0.001\n",
    "grad_clip = 0.1\n",
    "weight_decay = 1e-4\n",
    "opt_func = torch.optim.Adam\n",
    "\n",
    "history = fit_one_cycle(epochs, max_lr, model_2, full_loader, weight_decay=weight_decay, grad_clip=grad_clip, opt_func=torch.optim.Adam)"
   ]
  },
  {
   "cell_type": "code",
   "execution_count": 32,
   "metadata": {},
   "outputs": [
    {
     "output_type": "execute_result",
     "data": {
      "text/plain": "torch.Size([28000, 1, 28, 28])"
     },
     "metadata": {},
     "execution_count": 32
    }
   ],
   "source": [
    "test_df = pd.read_csv('test.csv')\n",
    "mnist_test_data = torch.Tensor(test_df.values.reshape(-1, 1, 28, 28)) / 255.\n",
    "mnist_test_data.shape"
   ]
  },
  {
   "cell_type": "code",
   "execution_count": 33,
   "metadata": {},
   "outputs": [],
   "source": [
    "test_loader = DeviceDataLoader(DataLoader(mnist_test_data, batch_size=batch_size, shuffle=False), device)"
   ]
  },
  {
   "cell_type": "code",
   "execution_count": 34,
   "metadata": {
    "tags": []
   },
   "outputs": [
    {
     "output_type": "stream",
     "name": "stdout",
     "text": "tensor([[0.7412, 0.7412, 0.8549, 0.9922, 0.9922],\n        [0.9922, 0.9922, 0.9922, 0.9922, 0.9922],\n        [0.9922, 0.9922, 0.9922, 0.9922, 0.9922],\n        [0.9922, 0.9412, 0.4784, 0.4784, 0.7451],\n        [0.9020, 0.2745, 0.0000, 0.0000, 0.0667]], device='cuda:0')\ntensor([[0.7412, 0.7412, 0.8549, 0.9922, 0.9922],\n        [0.9922, 0.9922, 0.9922, 0.9922, 0.9922],\n        [0.9922, 0.9922, 0.9922, 0.9922, 0.9922],\n        [0.9922, 0.9412, 0.4784, 0.4784, 0.7451],\n        [0.9020, 0.2745, 0.0000, 0.0000, 0.0667]])\n"
    }
   ],
   "source": [
    "for sample in test_loader:\n",
    "    print(sample[0, 0, 15:20, 15:20])\n",
    "    break\n",
    "print(mnist_test_data[0, 0, 15:20, 15:20])"
   ]
  },
  {
   "cell_type": "code",
   "execution_count": 35,
   "metadata": {},
   "outputs": [],
   "source": [
    "preds = []\n",
    "for sample in test_loader:\n",
    "    _, tmp_preds = torch.max(model_2(sample), dim=1)\n",
    "    preds = preds + list(tmp_preds.to('cpu'))"
   ]
  },
  {
   "cell_type": "code",
   "execution_count": 36,
   "metadata": {},
   "outputs": [
    {
     "output_type": "execute_result",
     "data": {
      "text/plain": "[2, 0, 9, 0, 3]"
     },
     "metadata": {},
     "execution_count": 36
    }
   ],
   "source": [
    "preds = [x.item() for x in preds]\n",
    "preds[:5]"
   ]
  },
  {
   "cell_type": "code",
   "execution_count": 37,
   "metadata": {},
   "outputs": [],
   "source": [
    "output = pd.DataFrame({\n",
    "    'ImageId': range(1, len(mnist_test_data) + 1),\n",
    "    'Label': preds\n",
    "})"
   ]
  },
  {
   "cell_type": "code",
   "execution_count": 38,
   "metadata": {},
   "outputs": [],
   "source": [
    "output.to_csv('self_output_cnn_optim.csv', index=False)"
   ]
  },
  {
   "cell_type": "code",
   "execution_count": 29,
   "metadata": {},
   "outputs": [],
   "source": [
    "torch.save(model_2.state_dict(), 'mnist-cnn-optim-1.pth')"
   ]
  }
 ]
}