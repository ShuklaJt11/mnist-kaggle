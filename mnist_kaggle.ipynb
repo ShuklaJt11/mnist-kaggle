{
 "metadata": {
  "language_info": {
   "codemirror_mode": {
    "name": "ipython",
    "version": 3
   },
   "file_extension": ".py",
   "mimetype": "text/x-python",
   "name": "python",
   "nbconvert_exporter": "python",
   "pygments_lexer": "ipython3",
   "version": "3.7.6-final"
  },
  "orig_nbformat": 2,
  "kernelspec": {
   "name": "python3",
   "display_name": "Python 3"
  }
 },
 "nbformat": 4,
 "nbformat_minor": 2,
 "cells": [
  {
   "cell_type": "markdown",
   "metadata": {},
   "source": [
    "# MNIST Dataset (For Kaggle)"
   ]
  },
  {
   "cell_type": "code",
   "execution_count": 1,
   "metadata": {},
   "outputs": [],
   "source": [
    "import torch\n",
    "import numpy as np\n",
    "import pandas as pd\n",
    "import torch.nn as nn\n",
    "import torch.nn.functional as F\n",
    "import matplotlib.pyplot as plt\n",
    "from torch.utils.data.sampler import SubsetRandomSampler\n",
    "from torch.utils.data.dataloader import DataLoader"
   ]
  },
  {
   "cell_type": "code",
   "execution_count": 2,
   "metadata": {},
   "outputs": [],
   "source": [
    "mnist_train_df = pd.read_csv('train.csv')"
   ]
  },
  {
   "cell_type": "code",
   "execution_count": 3,
   "metadata": {},
   "outputs": [
    {
     "output_type": "execute_result",
     "data": {
      "text/plain": "   label  pixel0  pixel1  pixel2  pixel3  pixel4  pixel5  pixel6  pixel7  \\\n0      1       0       0       0       0       0       0       0       0   \n1      0       0       0       0       0       0       0       0       0   \n2      1       0       0       0       0       0       0       0       0   \n3      4       0       0       0       0       0       0       0       0   \n4      0       0       0       0       0       0       0       0       0   \n\n   pixel8  ...  pixel774  pixel775  pixel776  pixel777  pixel778  pixel779  \\\n0       0  ...         0         0         0         0         0         0   \n1       0  ...         0         0         0         0         0         0   \n2       0  ...         0         0         0         0         0         0   \n3       0  ...         0         0         0         0         0         0   \n4       0  ...         0         0         0         0         0         0   \n\n   pixel780  pixel781  pixel782  pixel783  \n0         0         0         0         0  \n1         0         0         0         0  \n2         0         0         0         0  \n3         0         0         0         0  \n4         0         0         0         0  \n\n[5 rows x 785 columns]",
      "text/html": "<div>\n<style scoped>\n    .dataframe tbody tr th:only-of-type {\n        vertical-align: middle;\n    }\n\n    .dataframe tbody tr th {\n        vertical-align: top;\n    }\n\n    .dataframe thead th {\n        text-align: right;\n    }\n</style>\n<table border=\"1\" class=\"dataframe\">\n  <thead>\n    <tr style=\"text-align: right;\">\n      <th></th>\n      <th>label</th>\n      <th>pixel0</th>\n      <th>pixel1</th>\n      <th>pixel2</th>\n      <th>pixel3</th>\n      <th>pixel4</th>\n      <th>pixel5</th>\n      <th>pixel6</th>\n      <th>pixel7</th>\n      <th>pixel8</th>\n      <th>...</th>\n      <th>pixel774</th>\n      <th>pixel775</th>\n      <th>pixel776</th>\n      <th>pixel777</th>\n      <th>pixel778</th>\n      <th>pixel779</th>\n      <th>pixel780</th>\n      <th>pixel781</th>\n      <th>pixel782</th>\n      <th>pixel783</th>\n    </tr>\n  </thead>\n  <tbody>\n    <tr>\n      <th>0</th>\n      <td>1</td>\n      <td>0</td>\n      <td>0</td>\n      <td>0</td>\n      <td>0</td>\n      <td>0</td>\n      <td>0</td>\n      <td>0</td>\n      <td>0</td>\n      <td>0</td>\n      <td>...</td>\n      <td>0</td>\n      <td>0</td>\n      <td>0</td>\n      <td>0</td>\n      <td>0</td>\n      <td>0</td>\n      <td>0</td>\n      <td>0</td>\n      <td>0</td>\n      <td>0</td>\n    </tr>\n    <tr>\n      <th>1</th>\n      <td>0</td>\n      <td>0</td>\n      <td>0</td>\n      <td>0</td>\n      <td>0</td>\n      <td>0</td>\n      <td>0</td>\n      <td>0</td>\n      <td>0</td>\n      <td>0</td>\n      <td>...</td>\n      <td>0</td>\n      <td>0</td>\n      <td>0</td>\n      <td>0</td>\n      <td>0</td>\n      <td>0</td>\n      <td>0</td>\n      <td>0</td>\n      <td>0</td>\n      <td>0</td>\n    </tr>\n    <tr>\n      <th>2</th>\n      <td>1</td>\n      <td>0</td>\n      <td>0</td>\n      <td>0</td>\n      <td>0</td>\n      <td>0</td>\n      <td>0</td>\n      <td>0</td>\n      <td>0</td>\n      <td>0</td>\n      <td>...</td>\n      <td>0</td>\n      <td>0</td>\n      <td>0</td>\n      <td>0</td>\n      <td>0</td>\n      <td>0</td>\n      <td>0</td>\n      <td>0</td>\n      <td>0</td>\n      <td>0</td>\n    </tr>\n    <tr>\n      <th>3</th>\n      <td>4</td>\n      <td>0</td>\n      <td>0</td>\n      <td>0</td>\n      <td>0</td>\n      <td>0</td>\n      <td>0</td>\n      <td>0</td>\n      <td>0</td>\n      <td>0</td>\n      <td>...</td>\n      <td>0</td>\n      <td>0</td>\n      <td>0</td>\n      <td>0</td>\n      <td>0</td>\n      <td>0</td>\n      <td>0</td>\n      <td>0</td>\n      <td>0</td>\n      <td>0</td>\n    </tr>\n    <tr>\n      <th>4</th>\n      <td>0</td>\n      <td>0</td>\n      <td>0</td>\n      <td>0</td>\n      <td>0</td>\n      <td>0</td>\n      <td>0</td>\n      <td>0</td>\n      <td>0</td>\n      <td>0</td>\n      <td>...</td>\n      <td>0</td>\n      <td>0</td>\n      <td>0</td>\n      <td>0</td>\n      <td>0</td>\n      <td>0</td>\n      <td>0</td>\n      <td>0</td>\n      <td>0</td>\n      <td>0</td>\n    </tr>\n  </tbody>\n</table>\n<p>5 rows × 785 columns</p>\n</div>"
     },
     "metadata": {},
     "execution_count": 3
    }
   ],
   "source": [
    "mnist_train_df.head()"
   ]
  },
  {
   "cell_type": "code",
   "execution_count": 4,
   "metadata": {},
   "outputs": [
    {
     "output_type": "execute_result",
     "data": {
      "text/plain": "(255, 0)"
     },
     "metadata": {},
     "execution_count": 4
    }
   ],
   "source": [
    "np.max(mnist_train_df.values), np.min(mnist_train_df.values)"
   ]
  },
  {
   "cell_type": "code",
   "execution_count": 5,
   "metadata": {},
   "outputs": [],
   "source": [
    "mnist_train_labels = mnist_train_df['label'].values\n",
    "mnist_train_data = torch.Tensor(mnist_train_df.drop('label', axis=1).values)\n",
    "mnist_train = []\n",
    "\n",
    "for i in range(len(mnist_train_data)):\n",
    "    mnist_train.append([mnist_train_data[i] / 255., mnist_train_labels[i]])"
   ]
  },
  {
   "cell_type": "code",
   "execution_count": 6,
   "metadata": {},
   "outputs": [],
   "source": [
    "def split_indices(n, val_pct):\n",
    "    n_val = int(val_pct * n)\n",
    "    idxs = np.random.permutation(n)\n",
    "    return idxs[n_val:], idxs[:n_val]"
   ]
  },
  {
   "cell_type": "code",
   "execution_count": 7,
   "metadata": {},
   "outputs": [],
   "source": [
    "train_idxs, val_idxs = split_indices(len(mnist_train_data), 0.2)"
   ]
  },
  {
   "cell_type": "code",
   "execution_count": 8,
   "metadata": {},
   "outputs": [
    {
     "output_type": "execute_result",
     "data": {
      "text/plain": "(33600, 8400)"
     },
     "metadata": {},
     "execution_count": 8
    }
   ],
   "source": [
    "len(train_idxs), len(val_idxs)"
   ]
  },
  {
   "cell_type": "code",
   "execution_count": 9,
   "metadata": {},
   "outputs": [],
   "source": [
    "batch_size = 128\n",
    "\n",
    "train_sampler = SubsetRandomSampler(train_idxs)\n",
    "train_loader = DataLoader(mnist_train, batch_size=batch_size, sampler=train_sampler)\n",
    "\n",
    "val_sampler = SubsetRandomSampler(val_idxs)\n",
    "val_loader = DataLoader(mnist_train, batch_size=batch_size, sampler=val_sampler)"
   ]
  },
  {
   "cell_type": "code",
   "execution_count": 10,
   "metadata": {
    "tags": []
   },
   "outputs": [
    {
     "output_type": "stream",
     "name": "stdout",
     "text": "torch.Size([128, 784]) torch.Size([128])\n"
    }
   ],
   "source": [
    "for samples, labels in train_loader:\n",
    "    print(samples.shape, labels.shape)\n",
    "    break"
   ]
  },
  {
   "cell_type": "code",
   "execution_count": 11,
   "metadata": {},
   "outputs": [],
   "source": [
    "def get_default_device():\n",
    "    if torch.cuda.is_available():\n",
    "        return torch.device('cuda')\n",
    "    else:\n",
    "        return torch.device('cpu')\n",
    "    \n",
    "def to_device(data, device):\n",
    "    if isinstance(data, (list,tuple)):\n",
    "        return [to_device(x, device) for x in data]\n",
    "    return data.to(device, non_blocking=True)\n",
    "\n",
    "class DeviceDataLoader():\n",
    "    def __init__(self, dl, device):\n",
    "        self.dl = dl\n",
    "        self.device = device\n",
    "        \n",
    "    def __iter__(self):\n",
    "        for b in self.dl: \n",
    "            yield to_device(b, self.device)\n",
    "\n",
    "    def __len__(self):\n",
    "        return len(self.dl)"
   ]
  },
  {
   "cell_type": "code",
   "execution_count": 12,
   "metadata": {},
   "outputs": [
    {
     "output_type": "execute_result",
     "data": {
      "text/plain": "device(type='cuda')"
     },
     "metadata": {},
     "execution_count": 12
    }
   ],
   "source": [
    "device = get_default_device()\n",
    "device"
   ]
  },
  {
   "cell_type": "code",
   "execution_count": 13,
   "metadata": {},
   "outputs": [],
   "source": [
    "train_loader = DeviceDataLoader(train_loader, device)\n",
    "val_loader = DeviceDataLoader(val_loader, device)"
   ]
  },
  {
   "cell_type": "code",
   "execution_count": 14,
   "metadata": {},
   "outputs": [],
   "source": [
    "def accuracy(outputs, labels):\n",
    "    _, preds = torch.max(outputs, dim=1)\n",
    "    return torch.tensor(torch.sum(preds == labels).item() / len(preds))\n",
    "\n",
    "class ImageClassificationBase (nn.Module):\n",
    "    def training_step(self, batch):\n",
    "        images, labels = batch\n",
    "        out = self(images)\n",
    "        loss = F.cross_entropy(out, labels)\n",
    "        return loss\n",
    "    \n",
    "    def validation_step(self, batch):\n",
    "        images, labels = batch \n",
    "        out = self(images)\n",
    "        loss = F.cross_entropy(out, labels)\n",
    "        acc = accuracy(out, labels)\n",
    "        return {'val_loss': loss.detach(), 'val_acc': acc}\n",
    "        \n",
    "    def validation_epoch_end(self, outputs):\n",
    "        batch_losses = [x['val_loss'] for x in outputs]\n",
    "        epoch_loss = torch.stack(batch_losses).mean()\n",
    "        batch_accs = [x['val_acc'] for x in outputs]\n",
    "        epoch_acc = torch.stack(batch_accs).mean()\n",
    "        return {'val_loss': epoch_loss.item(), 'val_acc': epoch_acc.item()}\n",
    "    \n",
    "    def epoch_end(self, epoch, result):\n",
    "        if 'val_loss' in result:\n",
    "            print(\"Epoch [{}], train_loss: {:.5f}, val_loss: {:.5f}, val_acc: {:.5f}\".format(\n",
    "                epoch + 1, result['train_loss'], result['val_loss'], result['val_acc']))\n",
    "        else:\n",
    "            print(\"Epoch [{}], train_loss: {:.5f}\".format(\n",
    "                epoch + 1, result['train_loss']))"
   ]
  },
  {
   "cell_type": "code",
   "execution_count": 15,
   "metadata": {},
   "outputs": [],
   "source": [
    "@torch.no_grad()\n",
    "def evaluate(model, val_loader):\n",
    "    model.eval()\n",
    "    outputs = [model.validation_step(batch) for batch in val_loader]\n",
    "    return model.validation_epoch_end(outputs)\n",
    "\n",
    "def fit_one_cycle(epochs, lr, model, train_loader, val_loader=None, opt_func=torch.optim.SGD):\n",
    "    torch.cuda.empty_cache()\n",
    "    history = []\n",
    "    \n",
    "    optimizer = opt_func(model.parameters(), lr=lr)\n",
    "    \n",
    "    for epoch in range(epochs):\n",
    "        model.train()\n",
    "        train_losses = []\n",
    "        for batch in train_loader:\n",
    "            loss = model.training_step(batch)\n",
    "            train_losses.append(loss)\n",
    "            loss.backward()\n",
    "            \n",
    "            optimizer.step()\n",
    "            optimizer.zero_grad()\n",
    "        \n",
    "        result = {}\n",
    "        if val_loader is not None:\n",
    "            result = evaluate(model, val_loader)\n",
    "        result['train_loss'] = torch.stack(train_losses).mean().item()\n",
    "        model.epoch_end(epoch, result)\n",
    "        history.append(result)\n",
    "    return history"
   ]
  },
  {
   "cell_type": "code",
   "execution_count": 16,
   "metadata": {},
   "outputs": [],
   "source": [
    "class MnistNetwork (ImageClassificationBase):\n",
    "    def __init__(self, input_size, hidden_layers, output_size):\n",
    "        super().__init__()\n",
    "        layers = [\n",
    "            nn.Linear(input_size, hidden_layers[0]),\n",
    "            nn.ReLU()\n",
    "        ]\n",
    "        for i in range(len(hidden_layers) - 1):\n",
    "            layers.append(nn.Linear(hidden_layers[i], hidden_layers[i + 1]))\n",
    "            layers.append(nn.ReLU())\n",
    "        layers.append(nn.Linear(hidden_layers[-1], output_size))\n",
    "        self.connections = nn.Sequential(*layers)\n",
    "    \n",
    "    def forward(self, xb):\n",
    "        return self.connections(xb)"
   ]
  },
  {
   "cell_type": "code",
   "execution_count": 17,
   "metadata": {},
   "outputs": [
    {
     "output_type": "execute_result",
     "data": {
      "text/plain": "MnistNetwork(\n  (connections): Sequential(\n    (0): Linear(in_features=784, out_features=256, bias=True)\n    (1): ReLU()\n    (2): Linear(in_features=256, out_features=32, bias=True)\n    (3): ReLU()\n    (4): Linear(in_features=32, out_features=10, bias=True)\n  )\n)"
     },
     "metadata": {},
     "execution_count": 17
    }
   ],
   "source": [
    "input_size = 784\n",
    "hidden_layers = [256, 32]\n",
    "output_size = 10\n",
    "model = MnistNetwork(input_size, hidden_layers, output_size)\n",
    "model"
   ]
  },
  {
   "cell_type": "code",
   "execution_count": 18,
   "metadata": {},
   "outputs": [
    {
     "output_type": "execute_result",
     "data": {
      "text/plain": "MnistNetwork(\n  (connections): Sequential(\n    (0): Linear(in_features=784, out_features=256, bias=True)\n    (1): ReLU()\n    (2): Linear(in_features=256, out_features=32, bias=True)\n    (3): ReLU()\n    (4): Linear(in_features=32, out_features=10, bias=True)\n  )\n)"
     },
     "metadata": {},
     "execution_count": 18
    }
   ],
   "source": [
    "to_device(model, device)"
   ]
  },
  {
   "cell_type": "code",
   "execution_count": 19,
   "metadata": {
    "tags": []
   },
   "outputs": [
    {
     "output_type": "stream",
     "name": "stdout",
     "text": "Epoch [1], train_loss: 0.33611, val_loss: 0.18513, val_acc: 0.94247\nEpoch [2], train_loss: 0.13425, val_loss: 0.11731, val_acc: 0.96480\nEpoch [3], train_loss: 0.08629, val_loss: 0.11339, val_acc: 0.96499\nEpoch [4], train_loss: 0.06619, val_loss: 0.10275, val_acc: 0.96868\nEpoch [5], train_loss: 0.05246, val_loss: 0.11968, val_acc: 0.96636\nEpoch [6], train_loss: 0.03972, val_loss: 0.12809, val_acc: 0.96494\nEpoch [7], train_loss: 0.03214, val_loss: 0.14668, val_acc: 0.96622\nEpoch [8], train_loss: 0.03790, val_loss: 0.12022, val_acc: 0.97218\nEpoch [9], train_loss: 0.03136, val_loss: 0.12558, val_acc: 0.97280\nEpoch [10], train_loss: 0.02360, val_loss: 0.13341, val_acc: 0.97282\nEpoch [11], train_loss: 0.02363, val_loss: 0.16308, val_acc: 0.96468\nEpoch [12], train_loss: 0.02501, val_loss: 0.15304, val_acc: 0.96913\nEpoch [13], train_loss: 0.02146, val_loss: 0.14381, val_acc: 0.97192\nEpoch [14], train_loss: 0.02380, val_loss: 0.15200, val_acc: 0.97263\nEpoch [15], train_loss: 0.01153, val_loss: 0.14542, val_acc: 0.97422\nEpoch [16], train_loss: 0.02055, val_loss: 0.17433, val_acc: 0.97240\nEpoch [17], train_loss: 0.02265, val_loss: 0.16291, val_acc: 0.97079\nEpoch [18], train_loss: 0.02618, val_loss: 0.16261, val_acc: 0.97157\nEpoch [19], train_loss: 0.01789, val_loss: 0.17944, val_acc: 0.96863\nEpoch [20], train_loss: 0.01344, val_loss: 0.17335, val_acc: 0.97178\nEpoch [21], train_loss: 0.01101, val_loss: 0.19017, val_acc: 0.97057\nEpoch [22], train_loss: 0.00979, val_loss: 0.18512, val_acc: 0.97008\nEpoch [23], train_loss: 0.00782, val_loss: 0.21959, val_acc: 0.97045\nEpoch [24], train_loss: 0.02721, val_loss: 0.26265, val_acc: 0.96586\nEpoch [25], train_loss: 0.02210, val_loss: 0.17710, val_acc: 0.97393\n"
    }
   ],
   "source": [
    "epochs = 25\n",
    "lr = 0.005\n",
    "\n",
    "history = fit_one_cycle(epochs, lr, model, train_loader, val_loader=val_loader, opt_func=torch.optim.Adam)"
   ]
  },
  {
   "cell_type": "code",
   "execution_count": 20,
   "metadata": {
    "tags": []
   },
   "outputs": [
    {
     "output_type": "stream",
     "name": "stdout",
     "text": "Epoch [1], train_loss: 0.00347, val_loss: 0.16128, val_acc: 0.97621\nEpoch [2], train_loss: 0.00031, val_loss: 0.16423, val_acc: 0.97756\nEpoch [3], train_loss: 0.00009, val_loss: 0.16413, val_acc: 0.97675\nEpoch [4], train_loss: 0.00005, val_loss: 0.16708, val_acc: 0.97663\nEpoch [5], train_loss: 0.00003, val_loss: 0.17284, val_acc: 0.97701\nEpoch [6], train_loss: 0.00002, val_loss: 0.17665, val_acc: 0.97725\nEpoch [7], train_loss: 0.00001, val_loss: 0.17895, val_acc: 0.97786\nEpoch [8], train_loss: 0.00001, val_loss: 0.18608, val_acc: 0.97758\nEpoch [9], train_loss: 0.00001, val_loss: 0.18984, val_acc: 0.97741\nEpoch [10], train_loss: 0.00001, val_loss: 0.19348, val_acc: 0.97784\nEpoch [11], train_loss: 0.00000, val_loss: 0.19661, val_acc: 0.97765\nEpoch [12], train_loss: 0.00000, val_loss: 0.19892, val_acc: 0.97746\nEpoch [13], train_loss: 0.00000, val_loss: 0.20014, val_acc: 0.97741\nEpoch [14], train_loss: 0.00000, val_loss: 0.20074, val_acc: 0.97756\nEpoch [15], train_loss: 0.00000, val_loss: 0.20310, val_acc: 0.97768\nEpoch [16], train_loss: 0.00000, val_loss: 0.20840, val_acc: 0.97789\nEpoch [17], train_loss: 0.00000, val_loss: 0.20661, val_acc: 0.97779\nEpoch [18], train_loss: 0.00000, val_loss: 0.20766, val_acc: 0.97784\nEpoch [19], train_loss: 0.00000, val_loss: 0.20874, val_acc: 0.97772\nEpoch [20], train_loss: 0.00000, val_loss: 0.21386, val_acc: 0.97784\nEpoch [21], train_loss: 0.00000, val_loss: 0.21252, val_acc: 0.97834\nEpoch [22], train_loss: 0.00000, val_loss: 0.21478, val_acc: 0.97827\nEpoch [23], train_loss: 0.00000, val_loss: 0.21997, val_acc: 0.97831\nEpoch [24], train_loss: 0.00000, val_loss: 0.21818, val_acc: 0.97850\nEpoch [25], train_loss: 0.00000, val_loss: 0.21953, val_acc: 0.97850\n"
    }
   ],
   "source": [
    "epochs = 25\n",
    "lr = 0.001\n",
    "\n",
    "history = fit_one_cycle(epochs, lr, model, train_loader, val_loader=val_loader, opt_func=torch.optim.Adam)"
   ]
  },
  {
   "cell_type": "code",
   "execution_count": 21,
   "metadata": {},
   "outputs": [
    {
     "output_type": "execute_result",
     "data": {
      "text/plain": "MnistNetwork(\n  (connections): Sequential(\n    (0): Linear(in_features=784, out_features=256, bias=True)\n    (1): ReLU()\n    (2): Linear(in_features=256, out_features=32, bias=True)\n    (3): ReLU()\n    (4): Linear(in_features=32, out_features=10, bias=True)\n  )\n)"
     },
     "metadata": {},
     "execution_count": 21
    }
   ],
   "source": [
    "input_size = 784\n",
    "hidden_layers = [256, 32]\n",
    "output_size = 10\n",
    "model_2 = MnistNetwork(input_size, hidden_layers, output_size)\n",
    "to_device(model_2, device)"
   ]
  },
  {
   "cell_type": "code",
   "execution_count": 22,
   "metadata": {},
   "outputs": [],
   "source": [
    "full_loader = DeviceDataLoader(DataLoader(mnist_train, batch_size=batch_size, shuffle=True), device)"
   ]
  },
  {
   "cell_type": "code",
   "execution_count": 23,
   "metadata": {
    "tags": []
   },
   "outputs": [
    {
     "output_type": "stream",
     "name": "stdout",
     "text": "Epoch [1], train_loss: 0.30448\nEpoch [2], train_loss: 0.11336\nEpoch [3], train_loss: 0.07668\nEpoch [4], train_loss: 0.05831\nEpoch [5], train_loss: 0.04907\nEpoch [6], train_loss: 0.04420\nEpoch [7], train_loss: 0.03326\nEpoch [8], train_loss: 0.03123\nEpoch [9], train_loss: 0.03469\nEpoch [10], train_loss: 0.02420\nEpoch [11], train_loss: 0.02513\nEpoch [12], train_loss: 0.02784\nEpoch [13], train_loss: 0.02053\nEpoch [14], train_loss: 0.02158\nEpoch [15], train_loss: 0.01923\nEpoch [16], train_loss: 0.02093\nEpoch [17], train_loss: 0.02122\nEpoch [18], train_loss: 0.02060\nEpoch [19], train_loss: 0.01640\nEpoch [20], train_loss: 0.02341\nEpoch [21], train_loss: 0.01446\nEpoch [22], train_loss: 0.01186\nEpoch [23], train_loss: 0.01926\nEpoch [24], train_loss: 0.01210\nEpoch [25], train_loss: 0.01061\n"
    }
   ],
   "source": [
    "epochs = 25\n",
    "lr = 0.005\n",
    "\n",
    "history = fit_one_cycle(epochs, lr, model_2, full_loader, opt_func=torch.optim.Adam)"
   ]
  },
  {
   "cell_type": "code",
   "execution_count": 24,
   "metadata": {
    "tags": []
   },
   "outputs": [
    {
     "output_type": "stream",
     "name": "stdout",
     "text": "Epoch [1], train_loss: 0.00314\nEpoch [2], train_loss: 0.00036\nEpoch [3], train_loss: 0.00009\nEpoch [4], train_loss: 0.00004\nEpoch [5], train_loss: 0.00003\nEpoch [6], train_loss: 0.00002\nEpoch [7], train_loss: 0.00002\nEpoch [8], train_loss: 0.00001\nEpoch [9], train_loss: 0.00001\nEpoch [10], train_loss: 0.00001\nEpoch [11], train_loss: 0.00001\nEpoch [12], train_loss: 0.00000\nEpoch [13], train_loss: 0.00000\nEpoch [14], train_loss: 0.00000\nEpoch [15], train_loss: 0.00000\nEpoch [16], train_loss: 0.00000\nEpoch [17], train_loss: 0.00000\nEpoch [18], train_loss: 0.00000\nEpoch [19], train_loss: 0.00000\nEpoch [20], train_loss: 0.00000\nEpoch [21], train_loss: 0.00000\nEpoch [22], train_loss: 0.00000\nEpoch [23], train_loss: 0.00000\nEpoch [24], train_loss: 0.00000\nEpoch [25], train_loss: 0.00000\n"
    }
   ],
   "source": [
    "epochs = 25\n",
    "lr = 0.001\n",
    "\n",
    "history = fit_one_cycle(epochs, lr, model_2, full_loader, opt_func=torch.optim.Adam)"
   ]
  },
  {
   "cell_type": "code",
   "execution_count": 25,
   "metadata": {},
   "outputs": [],
   "source": [
    "test_df = pd.read_csv('test.csv')"
   ]
  },
  {
   "cell_type": "code",
   "execution_count": 26,
   "metadata": {},
   "outputs": [
    {
     "output_type": "execute_result",
     "data": {
      "text/plain": "torch.Size([28000, 784])"
     },
     "metadata": {},
     "execution_count": 26
    }
   ],
   "source": [
    "mnist_test_data = torch.Tensor(test_df.values) / 255.\n",
    "mnist_test_data.shape"
   ]
  },
  {
   "cell_type": "code",
   "execution_count": 27,
   "metadata": {},
   "outputs": [],
   "source": [
    "mnist_test_data = to_device(mnist_test_data, device)"
   ]
  },
  {
   "cell_type": "code",
   "execution_count": 28,
   "metadata": {},
   "outputs": [],
   "source": [
    "_, preds = torch.max(model_2(mnist_test_data), dim=1)"
   ]
  },
  {
   "cell_type": "code",
   "execution_count": 29,
   "metadata": {},
   "outputs": [
    {
     "output_type": "execute_result",
     "data": {
      "text/plain": "torch.Size([28000])"
     },
     "metadata": {},
     "execution_count": 29
    }
   ],
   "source": [
    "preds.shape"
   ]
  },
  {
   "cell_type": "code",
   "execution_count": 30,
   "metadata": {},
   "outputs": [],
   "source": [
    "output = pd.DataFrame({\n",
    "    'ImageId': range(1, len(mnist_test_data) + 1),\n",
    "    'Label': preds.to('cpu')\n",
    "})"
   ]
  },
  {
   "cell_type": "code",
   "execution_count": 31,
   "metadata": {},
   "outputs": [
    {
     "output_type": "execute_result",
     "data": {
      "text/plain": "   ImageId  Label\n0        1      2\n1        2      0\n2        3      9\n3        4      9\n4        5      3",
      "text/html": "<div>\n<style scoped>\n    .dataframe tbody tr th:only-of-type {\n        vertical-align: middle;\n    }\n\n    .dataframe tbody tr th {\n        vertical-align: top;\n    }\n\n    .dataframe thead th {\n        text-align: right;\n    }\n</style>\n<table border=\"1\" class=\"dataframe\">\n  <thead>\n    <tr style=\"text-align: right;\">\n      <th></th>\n      <th>ImageId</th>\n      <th>Label</th>\n    </tr>\n  </thead>\n  <tbody>\n    <tr>\n      <th>0</th>\n      <td>1</td>\n      <td>2</td>\n    </tr>\n    <tr>\n      <th>1</th>\n      <td>2</td>\n      <td>0</td>\n    </tr>\n    <tr>\n      <th>2</th>\n      <td>3</td>\n      <td>9</td>\n    </tr>\n    <tr>\n      <th>3</th>\n      <td>4</td>\n      <td>9</td>\n    </tr>\n    <tr>\n      <th>4</th>\n      <td>5</td>\n      <td>3</td>\n    </tr>\n  </tbody>\n</table>\n</div>"
     },
     "metadata": {},
     "execution_count": 31
    }
   ],
   "source": [
    "output.head()"
   ]
  },
  {
   "cell_type": "code",
   "execution_count": 32,
   "metadata": {},
   "outputs": [],
   "source": [
    "output.to_csv('self_output_1.csv', index=False)"
   ]
  }
 ]
}